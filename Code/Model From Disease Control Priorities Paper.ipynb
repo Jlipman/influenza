{
 "cells": [
  {
   "cell_type": "code",
   "execution_count": 5,
   "metadata": {
    "collapsed": false
   },
   "outputs": [],
   "source": [
    "%load_ext autoreload\n",
    "%autoreload 2\n",
    "\n",
    "import os\n",
    "\n",
    "%matplotlib inline\n",
    "from pylab import *\n",
    "import matplotlib.pyplot as plt\n",
    "import itertools\n",
    "import random"
   ]
  },
  {
   "cell_type": "code",
   "execution_count": 6,
   "metadata": {
    "collapsed": false
   },
   "outputs": [],
   "source": [
    "import pyAgrum as gum\n",
    "import pyAgrum.lib.notebook as gnb\n",
    "import pyAgrum.causal as csl\n",
    "import pyAgrum.causal.notebook as cslnb"
   ]
  },
  {
   "cell_type": "code",
   "execution_count": 7,
   "metadata": {
    "collapsed": false
   },
   "outputs": [],
   "source": [
    "bn=gum.BayesNet('Pandemic Deaths')"
   ]
  },
  {
   "cell_type": "code",
   "execution_count": 8,
   "metadata": {
    "collapsed": false
   },
   "outputs": [],
   "source": [
    "age_groups = [1, 40]\n",
    "age_data = {\n",
    "    \"China\": {1: [0.005, 24], 40: [0.038, 45]},\n",
    "    \"USA\": {1: [0.005, 1], 40: [0.038, 2]},\n",
    "}\n",
    "GDPpc_data = {\n",
    "    \"China\": 1,\n",
    "    \"USA\": 6,\n",
    "}\n",
    "countries = [\"USA\", \"China\"]\n",
    "country_emergence = [30, 5]\n",
    "collapse_val = 7/80\n",
    "r_data = [2, 1.15, 0.677, 0.3962, 0.22, 0.129, 0.076, 0.047]\n",
    "v_val = 150"
   ]
  },
  {
   "cell_type": "code",
   "execution_count": 9,
   "metadata": {
    "collapsed": true
   },
   "outputs": [],
   "source": [
    "def array_one_prob(index, length, min_val):\n",
    "    ar = list(repeat('0', length))\n",
    "    ar[index - min_val] = 1\n",
    "    return ar"
   ]
  },
  {
   "cell_type": "code",
   "execution_count": 10,
   "metadata": {
    "collapsed": false
   },
   "outputs": [],
   "source": [
    "params = {\n",
    "    \"NxRange\": [0, 15],\n",
    "    \"SxRange\": [0, 5],\n",
    "    \"GDPpcRange\": [min(GDPpc_data.values()), max(GDPpc_data.values())],\n",
    "    'rRange': [0, len(r_data) - 1],\n",
    "    'vRange': [v_val, v_val]\n",
    "}\n",
    "params[\"DxRange\"] = [min(params[\"NxRange\"]) * min(params[\"SxRange\"]), max(params[\"NxRange\"]) * max(params[\"SxRange\"])]\n",
    "params[\"D_all_ages_range\"] = [min(params[\"DxRange\"]) * len(age_groups), max(params[\"DxRange\"]) * len(age_groups)]\n",
    "params[\"deathsRange\"] = [min(params[\"D_all_ages_range\"]) * len(r_data), max(params[\"D_all_ages_range\"]) * len(r_data)]\n",
    "params[\"global_monetary_lossRange\"] = [min(params[\"deathsRange\"]) * v_val * min(params[\"GDPpcRange\"]), max(params[\"deathsRange\"]) * v_val * max(params[\"GDPpcRange\"])]"
   ]
  },
  {
   "cell_type": "code",
   "execution_count": null,
   "metadata": {
    "collapsed": false
   },
   "outputs": [],
   "source": [
    "\n",
    "bn.add(gum.LabelizedVariable('country', 'where does the pandemic emerge', countries))\n",
    "\n",
    "nampl=bn.addSUM(gum.RangeVariable(\"D_all_ages\", \"Sum of basic death counts per age\", params[\"D_all_ages_range\"][0],params[\"D_all_ages_range\"][1]))\n",
    "\n",
    "for group in age_groups:\n",
    "    bn.add(gum.RangeVariable('Sx_' + str(group), 'Excess death rate for age group', params[\"SxRange\"][0], params[\"SxRange\"][1]))\n",
    "    bn.add(gum.RangeVariable('Nx_' + str(group), 'Population of age group in country', params[\"NxRange\"][0], params[\"NxRange\"][1]))\n",
    "    bn.add(gum.RangeVariable('Dx_' + str(group), 'Deaths for age group', params[\"DxRange\"][0], params[\"DxRange\"][1]))\n",
    "\n",
    "    bn.addArc(bn.idFromName(\"country\"),bn.idFromName('Nx_' + str(group)))\n",
    "    bn.addArc(bn.idFromName('Sx_' + str(group)), bn.idFromName('Dx_' + str(group)))\n",
    "    bn.addArc(bn.idFromName('Nx_' + str(group)), bn.idFromName('Dx_' + str(group)))\n",
    "    bn.addArc(bn.idFromName('Dx_' + str(group)), bn.idFromName('D_all_ages'))\n",
    "\n",
    "bn.add(gum.RangeVariable('r', 'probability of pandemic emergence', params[\"rRange\"][0], params[\"rRange\"][1]))\n",
    "bn.add(gum.RangeVariable('v', 'value of lost years', params[\"vRange\"][0], params[\"vRange\"][1]))\n",
    "bn.add(gum.RangeVariable('GDP_pc', 'GDP per capita', params[\"GDPpcRange\"][0], params[\"GDPpcRange\"][1]))\n",
    "bn.add(gum.RangeVariable('deaths', 'total deaths', params[\"deathsRange\"][0], params[\"deathsRange\"][1]))\n",
    "bn.add(gum.RangeVariable('global_monetary_loss', 'global loss from deaths', params[\"global_monetary_lossRange\"][0], params[\"global_monetary_lossRange\"][1]))\n",
    "\n",
    "bn.addArc(bn.idFromName('D_all_ages'),bn.idFromName('deaths'))\n",
    "bn.addArc(bn.idFromName('r'),bn.idFromName('deaths'))\n",
    "bn.addArc(bn.idFromName('v'),bn.idFromName('global_monetary_loss'))\n",
    "bn.addArc(bn.idFromName('country'),bn.idFromName('GDP_pc'))\n",
    "bn.addArc(bn.idFromName('GDP_pc'),bn.idFromName('global_monetary_loss'))\n",
    "bn.addArc(bn.idFromName('deaths'),bn.idFromName('global_monetary_loss'))\n",
    "\n",
    "bn.add(gum.RangeVariable('collapse','Causes collapse of civilization?',0, 1))\n",
    "\n",
    "bn.addArc(bn.idFromName('deaths'),bn.idFromName('collapse'))"
   ]
  },
  {
   "cell_type": "code",
   "execution_count": null,
   "metadata": {
    "collapsed": false
   },
   "outputs": [],
   "source": [
    "for country in age_data.keys():\n",
    "    bn.cpt('GDP_pc')[{\"country\":country}]=array_one_prob(GDPpc_data[country], params[\"GDPpcRange\"][1] - params[\"GDPpcRange\"][0] + 1, params[\"GDPpcRange\"][0])\n",
    "    for group in age_groups:\n",
    "        bn.cpt('Sx_' + str(group))[{\"country\":country}]=array_one_prob(age_data[country][group][0], params[\"SxRange\"][1] - params[\"SxRange\"][0] + 1, params[\"SxRange\"][0])\n",
    "        bn.cpt('Nx_' + str(group))[{\"country\":country}]=array_one_prob(age_data[country][group][1], params[\"NxRange\"][1] - params[\"NxRange\"][0] + 1, params[\"NxRange\"][0])\n",
    "\n",
    "bn.cpt('country').fillWith(country_emergence).normalize()\n",
    "bn.cpt('r').fillWith(r_data).normalize()\n",
    "bn.cpt('v')[:] = array_one_prob(v_val, params[\"vRange\"][1] - params[\"vRange\"][0] + 1, params[\"vRange\"][0])"
   ]
  },
  {
   "cell_type": "code",
   "execution_count": null,
   "metadata": {
    "collapsed": false
   },
   "outputs": [],
   "source": [
    "for group in age_groups:\n",
    "    bn.cpt('Dx_' + str(group)).fillWithFunction('Sx_' + str(group) + \"*\" 'Nx_' + str(group))\n",
    "bn.cpt(\"deaths\").fillWithFunction(\"r*D_all_ages\")\n",
    "bn.cpt(\"global_monetary_loss\").fillWithFunction(\"deaths*v*GDP_pc\")\n",
    "bn.cpt('collapse').fillWithFunction(\"round(deaths/\"+str(collapse_val*2)+\")\")"
   ]
  },
  {
   "cell_type": "code",
   "execution_count": null,
   "metadata": {
    "collapsed": false
   },
   "outputs": [],
   "source": [
    "bn"
   ]
  },
  {
   "cell_type": "code",
   "execution_count": null,
   "metadata": {
    "collapsed": true
   },
   "outputs": [],
   "source": []
  },
  {
   "cell_type": "code",
   "execution_count": null,
   "metadata": {
    "collapsed": false,
    "scrolled": true
   },
   "outputs": [],
   "source": [
    "gnb.showInformation(bn,{},size=\"20\")"
   ]
  },
  {
   "cell_type": "code",
   "execution_count": null,
   "metadata": {
    "collapsed": false
   },
   "outputs": [],
   "source": [
    "ie=gum.LazyPropagation(bn)\n",
    "ie.setEvidence({})\n",
    "ie.makeInference()\n",
    "gnb.showProba(ie.posterior(bn.idFromName(\"collapse\")))"
   ]
  },
  {
   "cell_type": "code",
   "execution_count": 76,
   "metadata": {
    "collapsed": false
   },
   "outputs": [
    {
     "ename": "InvocationException",
     "evalue": "Program terminated with status: 1. stderr follows: Error: Edge length 140289.000000 larger than maximum 65535 allowed.\nCheck for overwide node(s).\n",
     "output_type": "error",
     "traceback": [
      "\u001b[0;31m---------------------------------------------------------------------------\u001b[0m",
      "\u001b[0;31mInvocationException\u001b[0m                       Traceback (most recent call last)",
      "\u001b[0;32m<ipython-input-76-c35a7972fdd3>\u001b[0m in \u001b[0;36m<module>\u001b[0;34m\u001b[0m\n\u001b[0;32m----> 1\u001b[0;31m \u001b[0mgnb\u001b[0m\u001b[0;34m.\u001b[0m\u001b[0mshowInference\u001b[0m\u001b[0;34m(\u001b[0m\u001b[0mbn\u001b[0m\u001b[0;34m,\u001b[0m\u001b[0mevs\u001b[0m\u001b[0;34m=\u001b[0m\u001b[0;34m{\u001b[0m\u001b[0;34m}\u001b[0m\u001b[0;34m)\u001b[0m\u001b[0;34m\u001b[0m\u001b[0;34m\u001b[0m\u001b[0m\n\u001b[0m",
      "\u001b[0;32m/usr/local/lib/python3.8/site-packages/pyAgrum/lib/notebook.py\u001b[0m in \u001b[0;36mshowInference\u001b[0;34m(model, engine, evs, targets, size, nodeColor, factorColor, arcWidth, arcColor, cmap, cmapArc, graph, view)\u001b[0m\n\u001b[1;32m    742\u001b[0m   grinf = _get_showInference(model, engine, evs, targets, size, nodeColor, arcWidth, arcColor, cmap, cmapArc, graph,\n\u001b[1;32m    743\u001b[0m                              view)\n\u001b[0;32m--> 744\u001b[0;31m   \u001b[0;32mreturn\u001b[0m \u001b[0mshowGraph\u001b[0m\u001b[0;34m(\u001b[0m\u001b[0mgrinf\u001b[0m\u001b[0;34m,\u001b[0m \u001b[0msize\u001b[0m\u001b[0;34m)\u001b[0m\u001b[0;34m\u001b[0m\u001b[0;34m\u001b[0m\u001b[0m\n\u001b[0m\u001b[1;32m    745\u001b[0m \u001b[0;34m\u001b[0m\u001b[0m\n\u001b[1;32m    746\u001b[0m \u001b[0;34m\u001b[0m\u001b[0m\n",
      "\u001b[0;32m/usr/local/lib/python3.8/site-packages/pyAgrum/lib/notebook.py\u001b[0m in \u001b[0;36mshowGraph\u001b[0;34m(gr, size)\u001b[0m\n\u001b[1;32m    159\u001b[0m     \u001b[0msize\u001b[0m \u001b[0;34m=\u001b[0m \u001b[0mgum\u001b[0m\u001b[0;34m.\u001b[0m\u001b[0mconfig\u001b[0m\u001b[0;34m[\u001b[0m\u001b[0;34m\"notebook\"\u001b[0m\u001b[0;34m,\u001b[0m \u001b[0;34m\"default_graph_size\"\u001b[0m\u001b[0;34m]\u001b[0m\u001b[0;34m\u001b[0m\u001b[0;34m\u001b[0m\u001b[0m\n\u001b[1;32m    160\u001b[0m \u001b[0;34m\u001b[0m\u001b[0m\n\u001b[0;32m--> 161\u001b[0;31m   \u001b[0;32mreturn\u001b[0m \u001b[0m_reprGraph\u001b[0m\u001b[0;34m(\u001b[0m\u001b[0mgr\u001b[0m\u001b[0;34m,\u001b[0m \u001b[0msize\u001b[0m\u001b[0;34m,\u001b[0m \u001b[0masString\u001b[0m\u001b[0;34m=\u001b[0m\u001b[0;32mFalse\u001b[0m\u001b[0;34m)\u001b[0m\u001b[0;34m\u001b[0m\u001b[0;34m\u001b[0m\u001b[0m\n\u001b[0m\u001b[1;32m    162\u001b[0m \u001b[0;34m\u001b[0m\u001b[0m\n\u001b[1;32m    163\u001b[0m \u001b[0;34m\u001b[0m\u001b[0m\n",
      "\u001b[0;32m/usr/local/lib/python3.8/site-packages/pyAgrum/lib/notebook.py\u001b[0m in \u001b[0;36m_reprGraph\u001b[0;34m(gr, size, asString)\u001b[0m\n\u001b[1;32m    135\u001b[0m   \u001b[0mgr\u001b[0m\u001b[0;34m.\u001b[0m\u001b[0mset_size\u001b[0m\u001b[0;34m(\u001b[0m\u001b[0msize\u001b[0m\u001b[0;34m)\u001b[0m\u001b[0;34m\u001b[0m\u001b[0;34m\u001b[0m\u001b[0m\n\u001b[1;32m    136\u001b[0m   \u001b[0;32mif\u001b[0m \u001b[0mgum\u001b[0m\u001b[0;34m.\u001b[0m\u001b[0mconfig\u001b[0m\u001b[0;34m[\u001b[0m\u001b[0;34m\"notebook\"\u001b[0m\u001b[0;34m,\u001b[0m \u001b[0;34m\"graph_format\"\u001b[0m\u001b[0;34m]\u001b[0m \u001b[0;34m==\u001b[0m \u001b[0;34m\"svg\"\u001b[0m\u001b[0;34m:\u001b[0m\u001b[0;34m\u001b[0m\u001b[0;34m\u001b[0m\u001b[0m\n\u001b[0;32m--> 137\u001b[0;31m     \u001b[0mgsvg\u001b[0m \u001b[0;34m=\u001b[0m \u001b[0mSVG\u001b[0m\u001b[0;34m(\u001b[0m\u001b[0m__insertLinkedSVGs\u001b[0m\u001b[0;34m(\u001b[0m\u001b[0mgr\u001b[0m\u001b[0;34m.\u001b[0m\u001b[0mcreate_svg\u001b[0m\u001b[0;34m(\u001b[0m\u001b[0;34m)\u001b[0m\u001b[0;34m.\u001b[0m\u001b[0mdecode\u001b[0m\u001b[0;34m(\u001b[0m\u001b[0;34m'utf-8'\u001b[0m\u001b[0;34m)\u001b[0m\u001b[0;34m)\u001b[0m\u001b[0;34m)\u001b[0m\u001b[0;34m\u001b[0m\u001b[0;34m\u001b[0m\u001b[0m\n\u001b[0m\u001b[1;32m    138\u001b[0m     \u001b[0;32mif\u001b[0m \u001b[0masString\u001b[0m\u001b[0;34m:\u001b[0m\u001b[0;34m\u001b[0m\u001b[0;34m\u001b[0m\u001b[0m\n\u001b[1;32m    139\u001b[0m       \u001b[0;32mreturn\u001b[0m \u001b[0mgsvg\u001b[0m\u001b[0;34m.\u001b[0m\u001b[0mdata\u001b[0m\u001b[0;34m\u001b[0m\u001b[0;34m\u001b[0m\u001b[0m\n",
      "\u001b[0;32m/usr/local/lib/python3.8/site-packages/pydotplus/graphviz.py\u001b[0m in \u001b[0;36m<lambda>\u001b[0;34m(f, prog)\u001b[0m\n\u001b[1;32m   1795\u001b[0m             self.__setattr__(\n\u001b[1;32m   1796\u001b[0m                 \u001b[0;34m'create_'\u001b[0m \u001b[0;34m+\u001b[0m \u001b[0mfrmt\u001b[0m\u001b[0;34m,\u001b[0m\u001b[0;34m\u001b[0m\u001b[0;34m\u001b[0m\u001b[0m\n\u001b[0;32m-> 1797\u001b[0;31m                 \u001b[0;32mlambda\u001b[0m \u001b[0mf\u001b[0m\u001b[0;34m=\u001b[0m\u001b[0mfrmt\u001b[0m\u001b[0;34m,\u001b[0m \u001b[0mprog\u001b[0m\u001b[0;34m=\u001b[0m\u001b[0mself\u001b[0m\u001b[0;34m.\u001b[0m\u001b[0mprog\u001b[0m\u001b[0;34m:\u001b[0m \u001b[0mself\u001b[0m\u001b[0;34m.\u001b[0m\u001b[0mcreate\u001b[0m\u001b[0;34m(\u001b[0m\u001b[0mformat\u001b[0m\u001b[0;34m=\u001b[0m\u001b[0mf\u001b[0m\u001b[0;34m,\u001b[0m \u001b[0mprog\u001b[0m\u001b[0;34m=\u001b[0m\u001b[0mprog\u001b[0m\u001b[0;34m)\u001b[0m\u001b[0;34m\u001b[0m\u001b[0;34m\u001b[0m\u001b[0m\n\u001b[0m\u001b[1;32m   1798\u001b[0m             )\n\u001b[1;32m   1799\u001b[0m             \u001b[0mf\u001b[0m \u001b[0;34m=\u001b[0m \u001b[0mself\u001b[0m\u001b[0;34m.\u001b[0m\u001b[0m__dict__\u001b[0m\u001b[0;34m[\u001b[0m\u001b[0;34m'create_'\u001b[0m \u001b[0;34m+\u001b[0m \u001b[0mfrmt\u001b[0m\u001b[0;34m]\u001b[0m\u001b[0;34m\u001b[0m\u001b[0;34m\u001b[0m\u001b[0m\n",
      "\u001b[0;32m/usr/local/lib/python3.8/site-packages/pydotplus/graphviz.py\u001b[0m in \u001b[0;36mcreate\u001b[0;34m(self, prog, format)\u001b[0m\n\u001b[1;32m   2028\u001b[0m \u001b[0;34m\u001b[0m\u001b[0m\n\u001b[1;32m   2029\u001b[0m         \u001b[0;32mif\u001b[0m \u001b[0mstatus\u001b[0m \u001b[0;34m!=\u001b[0m \u001b[0;36m0\u001b[0m\u001b[0;34m:\u001b[0m\u001b[0;34m\u001b[0m\u001b[0;34m\u001b[0m\u001b[0m\n\u001b[0;32m-> 2030\u001b[0;31m             raise InvocationException(\n\u001b[0m\u001b[1;32m   2031\u001b[0m                 'Program terminated with status: %d. stderr follows: %s' % (\n\u001b[1;32m   2032\u001b[0m                     status, stderr_output))\n",
      "\u001b[0;31mInvocationException\u001b[0m: Program terminated with status: 1. stderr follows: Error: Edge length 140289.000000 larger than maximum 65535 allowed.\nCheck for overwide node(s).\n"
     ]
    }
   ],
   "source": [
    "gnb.showInference(bn,evs={})"
   ]
  },
  {
   "cell_type": "code",
   "execution_count": null,
   "metadata": {
    "collapsed": false
   },
   "outputs": [],
   "source": [
    "gnb.sideBySide(bn.cpt(\"r0\"), bn.cpt(\"t\"), bn.cpt(\"theta\"))"
   ]
  },
  {
   "cell_type": "code",
   "execution_count": null,
   "metadata": {
    "collapsed": false
   },
   "outputs": [],
   "source": [
    "cm=csl.CausalModel(bn)\n",
    "\n",
    "cslnb.showCausalImpact(cm,\"collapse\", \"country\")"
   ]
  },
  {
   "cell_type": "code",
   "execution_count": null,
   "metadata": {
    "collapsed": true
   },
   "outputs": [],
   "source": []
  }
 ],
 "metadata": {
  "kernelspec": {
   "display_name": "Python 3",
   "language": "python",
   "name": "python3"
  },
  "language_info": {
   "codemirror_mode": {
    "name": "ipython",
    "version": 3
   },
   "file_extension": ".py",
   "mimetype": "text/x-python",
   "name": "python",
   "nbconvert_exporter": "python",
   "pygments_lexer": "ipython3",
   "version": "3.8.3"
  }
 },
 "nbformat": 4,
 "nbformat_minor": 2
}
